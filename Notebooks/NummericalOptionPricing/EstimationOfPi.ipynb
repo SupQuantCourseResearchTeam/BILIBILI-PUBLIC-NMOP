{
 "cells": [
  {
   "cell_type": "markdown",
   "id": "8aadb41a",
   "metadata": {},
   "source": [
    "$$\n",
    "\\begin{aligned}\n",
    " \\pi=&S_{\\text{square}}\\times\\frac{S_{\\text{circle}}}{S_{\\text{square}}}\\\\\n",
    "  =& S_{\\text{square}}\\times\\mathbb{P}(\\text{draw a point in the square, then the  point is also in the circle})\\\\\n",
    "  \\approx& S_{\\text{square}}\\times \\frac{\\text{number of points in the circle}}{\\text{total number of points}}\n",
    "\\end{aligned}\n",
    "$$"
   ]
  },
  {
   "cell_type": "code",
   "execution_count": 11,
   "id": "c7d5b680",
   "metadata": {},
   "outputs": [
    {
     "data": {
      "text/plain": [
       "np.float64(3.14149948)"
      ]
     },
     "execution_count": 11,
     "metadata": {},
     "output_type": "execute_result"
    }
   ],
   "source": [
    "import numpy as np\n",
    "\n",
    "N = 100000000\n",
    "points = 2.0 * np.random.rand(N, 2) - 1\n",
    "((points ** 2).sum(axis=1) <= 1).sum() / N * 4"
   ]
  }
 ],
 "metadata": {
  "kernelspec": {
   "display_name": "Python 3",
   "language": "python",
   "name": "python3"
  },
  "language_info": {
   "codemirror_mode": {
    "name": "ipython",
    "version": 3
   },
   "file_extension": ".py",
   "mimetype": "text/x-python",
   "name": "python",
   "nbconvert_exporter": "python",
   "pygments_lexer": "ipython3",
   "version": "3.9.6"
  }
 },
 "nbformat": 4,
 "nbformat_minor": 5
}
